{
 "cells": [
  {
   "cell_type": "code",
   "execution_count": 1,
   "metadata": {},
   "outputs": [],
   "source": [
    "#load libraries\n",
    "import numpy as np\n",
    "import pandas as pd"
   ]
  },
  {
   "cell_type": "code",
   "execution_count": 2,
   "metadata": {},
   "outputs": [],
   "source": [
    "#Load dataset\n",
    "df = pd.read_csv('data/KCB LAB 23.csv')"
   ]
  },
  {
   "cell_type": "code",
   "execution_count": 3,
   "metadata": {},
   "outputs": [
    {
     "name": "stdout",
     "output_type": "stream",
     "text": [
      "<class 'pandas.core.frame.DataFrame'>\n",
      "RangeIndex: 231 entries, 0 to 230\n",
      "Data columns (total 20 columns):\n",
      " #   Column              Non-Null Count  Dtype  \n",
      "---  ------              --------------  -----  \n",
      " 0   DIVISION            231 non-null    object \n",
      " 1   TOTAL               231 non-null    int64  \n",
      " 2   MALE                231 non-null    int64  \n",
      " 3   FEMALE              231 non-null    int64  \n",
      " 4   UNDERWEIGHT         231 non-null    int64  \n",
      " 5   OVERWEIGHT: BMI>25  231 non-null    object \n",
      " 6   OBESE : MBI >30     231 non-null    object \n",
      " 7   HYPERTENSION        231 non-null    int64  \n",
      " 8    BP MONITORING      230 non-null    float64\n",
      " 9   DM                  231 non-null    int64  \n",
      " 10  LOW HB              231 non-null    int64  \n",
      " 11  CHOL - HIGH         231 non-null    int64  \n",
      " 12  GGT - HIGH          231 non-null    int64  \n",
      " 13  CREA - HIGH         230 non-null    float64\n",
      " 14  RBS - HIGH          231 non-null    int64  \n",
      " 15  PSA - HIGH          231 non-null    int64  \n",
      " 16  FOB - POSITIVE      231 non-null    int64  \n",
      " 17  UTI                 231 non-null    int64  \n",
      " 18  CEA - HIGH          231 non-null    int64  \n",
      " 19  REGIONS             231 non-null    object \n",
      "dtypes: float64(2), int64(14), object(4)\n",
      "memory usage: 36.2+ KB\n"
     ]
    }
   ],
   "source": [
    "#Dataset info\n",
    "df.info()"
   ]
  },
  {
   "cell_type": "code",
   "execution_count": 4,
   "metadata": {},
   "outputs": [],
   "source": [
    "#removes spaces from the data-this removes spaces from the data \n",
    "df = df.apply(lambda x: x.str.strip() if x.dtype == \"object\" else x)\n",
    "\n",
    "#remove spaces from the column names\n",
    "df.columns = df.columns.str.strip()"
   ]
  },
  {
   "cell_type": "code",
   "execution_count": 5,
   "metadata": {},
   "outputs": [
    {
     "data": {
      "text/plain": [
       "BP MONITORING    1\n",
       "CREA - HIGH      1\n",
       "dtype: int64"
      ]
     },
     "execution_count": 5,
     "metadata": {},
     "output_type": "execute_result"
    }
   ],
   "source": [
    "#checking for null values \n",
    "df.isnull().sum()\n",
    "\n",
    "#filter only the columns with null values\n",
    "df.isnull().sum()[df.isnull().sum() > 0]"
   ]
  },
  {
   "cell_type": "code",
   "execution_count": 6,
   "metadata": {},
   "outputs": [
    {
     "data": {
      "text/html": [
       "<div>\n",
       "<style scoped>\n",
       "    .dataframe tbody tr th:only-of-type {\n",
       "        vertical-align: middle;\n",
       "    }\n",
       "\n",
       "    .dataframe tbody tr th {\n",
       "        vertical-align: top;\n",
       "    }\n",
       "\n",
       "    .dataframe thead th {\n",
       "        text-align: right;\n",
       "    }\n",
       "</style>\n",
       "<table border=\"1\" class=\"dataframe\">\n",
       "  <thead>\n",
       "    <tr style=\"text-align: right;\">\n",
       "      <th></th>\n",
       "      <th>DIVISION</th>\n",
       "      <th>TOTAL</th>\n",
       "      <th>MALE</th>\n",
       "      <th>FEMALE</th>\n",
       "      <th>UNDERWEIGHT</th>\n",
       "      <th>OVERWEIGHT: BMI&gt;25</th>\n",
       "      <th>OBESE : MBI &gt;30</th>\n",
       "      <th>HYPERTENSION</th>\n",
       "      <th>BP MONITORING</th>\n",
       "      <th>DM</th>\n",
       "      <th>LOW HB</th>\n",
       "      <th>CHOL - HIGH</th>\n",
       "      <th>GGT - HIGH</th>\n",
       "      <th>CREA - HIGH</th>\n",
       "      <th>RBS - HIGH</th>\n",
       "      <th>PSA - HIGH</th>\n",
       "      <th>FOB - POSITIVE</th>\n",
       "      <th>UTI</th>\n",
       "      <th>CEA - HIGH</th>\n",
       "      <th>REGIONS</th>\n",
       "    </tr>\n",
       "  </thead>\n",
       "  <tbody>\n",
       "    <tr>\n",
       "      <th>10</th>\n",
       "      <td>MERU</td>\n",
       "      <td>14</td>\n",
       "      <td>12</td>\n",
       "      <td>2</td>\n",
       "      <td>1</td>\n",
       "      <td>5</td>\n",
       "      <td>0</td>\n",
       "      <td>0</td>\n",
       "      <td>NaN</td>\n",
       "      <td>0</td>\n",
       "      <td>0</td>\n",
       "      <td>1</td>\n",
       "      <td>2</td>\n",
       "      <td>0.0</td>\n",
       "      <td>1</td>\n",
       "      <td>0</td>\n",
       "      <td>1</td>\n",
       "      <td>1</td>\n",
       "      <td>0</td>\n",
       "      <td>CENTRAL REGION</td>\n",
       "    </tr>\n",
       "  </tbody>\n",
       "</table>\n",
       "</div>"
      ],
      "text/plain": [
       "   DIVISION  TOTAL  MALE  FEMALE  UNDERWEIGHT OVERWEIGHT: BMI>25  \\\n",
       "10     MERU     14    12       2            1                  5   \n",
       "\n",
       "   OBESE : MBI >30  HYPERTENSION  BP MONITORING  DM  LOW HB  CHOL - HIGH  \\\n",
       "10               0             0            NaN   0       0            1   \n",
       "\n",
       "    GGT - HIGH  CREA - HIGH  RBS - HIGH  PSA - HIGH  FOB - POSITIVE  UTI  \\\n",
       "10           2          0.0           1           0               1    1   \n",
       "\n",
       "    CEA - HIGH         REGIONS  \n",
       "10           0  CENTRAL REGION  "
      ]
     },
     "execution_count": 6,
     "metadata": {},
     "output_type": "execute_result"
    }
   ],
   "source": [
    "#BP MONITORING  lets get the particular row with null values\n",
    "df[df['BP MONITORING'].isnull()]"
   ]
  },
  {
   "cell_type": "code",
   "execution_count": 7,
   "metadata": {},
   "outputs": [],
   "source": [
    "# fill it with 0\n",
    "df['BP MONITORING'] = df['BP MONITORING'].fillna(0)"
   ]
  },
  {
   "cell_type": "code",
   "execution_count": 8,
   "metadata": {},
   "outputs": [
    {
     "data": {
      "text/html": [
       "<div>\n",
       "<style scoped>\n",
       "    .dataframe tbody tr th:only-of-type {\n",
       "        vertical-align: middle;\n",
       "    }\n",
       "\n",
       "    .dataframe tbody tr th {\n",
       "        vertical-align: top;\n",
       "    }\n",
       "\n",
       "    .dataframe thead th {\n",
       "        text-align: right;\n",
       "    }\n",
       "</style>\n",
       "<table border=\"1\" class=\"dataframe\">\n",
       "  <thead>\n",
       "    <tr style=\"text-align: right;\">\n",
       "      <th></th>\n",
       "      <th>DIVISION</th>\n",
       "      <th>TOTAL</th>\n",
       "      <th>MALE</th>\n",
       "      <th>FEMALE</th>\n",
       "      <th>UNDERWEIGHT</th>\n",
       "      <th>OVERWEIGHT: BMI&gt;25</th>\n",
       "      <th>OBESE : MBI &gt;30</th>\n",
       "      <th>HYPERTENSION</th>\n",
       "      <th>BP MONITORING</th>\n",
       "      <th>DM</th>\n",
       "      <th>LOW HB</th>\n",
       "      <th>CHOL - HIGH</th>\n",
       "      <th>GGT - HIGH</th>\n",
       "      <th>CREA - HIGH</th>\n",
       "      <th>RBS - HIGH</th>\n",
       "      <th>PSA - HIGH</th>\n",
       "      <th>FOB - POSITIVE</th>\n",
       "      <th>UTI</th>\n",
       "      <th>CEA - HIGH</th>\n",
       "      <th>REGIONS</th>\n",
       "    </tr>\n",
       "  </thead>\n",
       "  <tbody>\n",
       "    <tr>\n",
       "      <th>222</th>\n",
       "      <td>NBK ELDORET</td>\n",
       "      <td>7</td>\n",
       "      <td>2</td>\n",
       "      <td>5</td>\n",
       "      <td>0</td>\n",
       "      <td>3</td>\n",
       "      <td>1</td>\n",
       "      <td>0</td>\n",
       "      <td>0.0</td>\n",
       "      <td>0</td>\n",
       "      <td>2</td>\n",
       "      <td>4</td>\n",
       "      <td>2</td>\n",
       "      <td>NaN</td>\n",
       "      <td>0</td>\n",
       "      <td>0</td>\n",
       "      <td>0</td>\n",
       "      <td>0</td>\n",
       "      <td>0</td>\n",
       "      <td>NATIONAL BANK</td>\n",
       "    </tr>\n",
       "  </tbody>\n",
       "</table>\n",
       "</div>"
      ],
      "text/plain": [
       "        DIVISION  TOTAL  MALE  FEMALE  UNDERWEIGHT OVERWEIGHT: BMI>25  \\\n",
       "222  NBK ELDORET      7     2       5            0                  3   \n",
       "\n",
       "    OBESE : MBI >30  HYPERTENSION  BP MONITORING  DM  LOW HB  CHOL - HIGH  \\\n",
       "222               1             0            0.0   0       2            4   \n",
       "\n",
       "     GGT - HIGH  CREA - HIGH  RBS - HIGH  PSA - HIGH  FOB - POSITIVE  UTI  \\\n",
       "222           2          NaN           0           0               0    0   \n",
       "\n",
       "     CEA - HIGH        REGIONS  \n",
       "222           0  NATIONAL BANK  "
      ]
     },
     "execution_count": 8,
     "metadata": {},
     "output_type": "execute_result"
    }
   ],
   "source": [
    "#CREA-HIGH lets get the particular row with null values\n",
    "df[df['CREA - HIGH'].isnull()]"
   ]
  },
  {
   "cell_type": "code",
   "execution_count": 9,
   "metadata": {},
   "outputs": [],
   "source": [
    "# fill it with 0\n",
    "df['CREA - HIGH'] = df['CREA - HIGH'].fillna(0)"
   ]
  },
  {
   "cell_type": "code",
   "execution_count": 10,
   "metadata": {},
   "outputs": [
    {
     "name": "stdout",
     "output_type": "stream",
     "text": [
      "<class 'pandas.core.frame.DataFrame'>\n",
      "RangeIndex: 231 entries, 0 to 230\n",
      "Data columns (total 20 columns):\n",
      " #   Column              Non-Null Count  Dtype  \n",
      "---  ------              --------------  -----  \n",
      " 0   DIVISION            231 non-null    object \n",
      " 1   TOTAL               231 non-null    int64  \n",
      " 2   MALE                231 non-null    int64  \n",
      " 3   FEMALE              231 non-null    int64  \n",
      " 4   UNDERWEIGHT         231 non-null    int64  \n",
      " 5   OVERWEIGHT: BMI>25  231 non-null    object \n",
      " 6   OBESE : MBI >30     231 non-null    object \n",
      " 7   HYPERTENSION        231 non-null    int64  \n",
      " 8   BP MONITORING       231 non-null    float64\n",
      " 9   DM                  231 non-null    int64  \n",
      " 10  LOW HB              231 non-null    int64  \n",
      " 11  CHOL - HIGH         231 non-null    int64  \n",
      " 12  GGT - HIGH          231 non-null    int64  \n",
      " 13  CREA - HIGH         231 non-null    float64\n",
      " 14  RBS - HIGH          231 non-null    int64  \n",
      " 15  PSA - HIGH          231 non-null    int64  \n",
      " 16  FOB - POSITIVE      231 non-null    int64  \n",
      " 17  UTI                 231 non-null    int64  \n",
      " 18  CEA - HIGH          231 non-null    int64  \n",
      " 19  REGIONS             231 non-null    object \n",
      "dtypes: float64(2), int64(14), object(4)\n",
      "memory usage: 36.2+ KB\n"
     ]
    }
   ],
   "source": [
    "#dataset info\n",
    "df.info()"
   ]
  },
  {
   "cell_type": "code",
   "execution_count": 11,
   "metadata": {},
   "outputs": [],
   "source": [
    "# Clean the \"OVERWEIGHT: BMI>25\" column\n",
    "df['OVERWEIGHT: BMI>25'] = df['OVERWEIGHT: BMI>25'].astype(str).str.extract('(\\d+)').astype(float)\n",
    "\n"
   ]
  },
  {
   "cell_type": "code",
   "execution_count": 12,
   "metadata": {},
   "outputs": [
    {
     "name": "stdout",
     "output_type": "stream",
     "text": [
      "    DIVISION  TOTAL  MALE  FEMALE  UNDERWEIGHT  OVERWEIGHT: BMI>25  \\\n",
      "215    MBITA     16    10       6            0                 6.0   \n",
      "\n",
      "    OBESE : MBI >30  HYPERTENSION  BP MONITORING  DM  LOW HB  CHOL - HIGH  \\\n",
      "215            1(M)             0            3.0   0       2            5   \n",
      "\n",
      "     GGT - HIGH  CREA - HIGH  RBS - HIGH  PSA - HIGH  FOB - POSITIVE  UTI  \\\n",
      "215           4          0.0           0           0               0    1   \n",
      "\n",
      "     CEA - HIGH  REGIONS  \n",
      "215           1  WESTERN  \n"
     ]
    }
   ],
   "source": [
    "print(df[df['DIVISION'] == 'MBITA'])\n"
   ]
  },
  {
   "cell_type": "code",
   "execution_count": 13,
   "metadata": {},
   "outputs": [],
   "source": [
    "# Clean the \"OBESE : MBI >30\" column\n",
    "df['OBESE : MBI >30'] = df['OBESE : MBI >30'].astype(str).str.extract('(\\d+)').astype(float)\n"
   ]
  },
  {
   "cell_type": "code",
   "execution_count": 14,
   "metadata": {},
   "outputs": [
    {
     "name": "stdout",
     "output_type": "stream",
     "text": [
      "    DIVISION  TOTAL  MALE  FEMALE  UNDERWEIGHT  OVERWEIGHT: BMI>25  \\\n",
      "215    MBITA     16    10       6            0                 6.0   \n",
      "\n",
      "     OBESE : MBI >30  HYPERTENSION  BP MONITORING  DM  LOW HB  CHOL - HIGH  \\\n",
      "215              1.0             0            3.0   0       2            5   \n",
      "\n",
      "     GGT - HIGH  CREA - HIGH  RBS - HIGH  PSA - HIGH  FOB - POSITIVE  UTI  \\\n",
      "215           4          0.0           0           0               0    1   \n",
      "\n",
      "     CEA - HIGH  REGIONS  \n",
      "215           1  WESTERN  \n"
     ]
    }
   ],
   "source": [
    "print(df[df['DIVISION'] == 'MBITA'])"
   ]
  }
 ],
 "metadata": {
  "kernelspec": {
   "display_name": "Python 3",
   "language": "python",
   "name": "python3"
  },
  "language_info": {
   "codemirror_mode": {
    "name": "ipython",
    "version": 3
   },
   "file_extension": ".py",
   "mimetype": "text/x-python",
   "name": "python",
   "nbconvert_exporter": "python",
   "pygments_lexer": "ipython3",
   "version": "3.11.5"
  }
 },
 "nbformat": 4,
 "nbformat_minor": 2
}
